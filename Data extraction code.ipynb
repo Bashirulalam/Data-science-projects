{
 "cells": [
  {
   "cell_type": "code",
   "execution_count": 2,
   "id": "33d72b94-6c9b-4d49-944f-f43429543a74",
   "metadata": {},
   "outputs": [
    {
     "name": "stdout",
     "output_type": "stream",
     "text": [
      "CSV file has been created.\n"
     ]
    }
   ],
   "source": [
    "import requests\n",
    "from bs4 import BeautifulSoup\n",
    "import pandas as pd\n",
    "\n",
    "# Function to extract data from a given URL\n",
    "def extract_data(url):\n",
    "    response = requests.get(url)\n",
    "    soup = BeautifulSoup(response.content, 'html.parser')\n",
    "\n",
    "    table = soup.find('table')\n",
    "    matches = []\n",
    "\n",
    "    if table:\n",
    "        for row in table.find_all('tr'):\n",
    "            columns = row.find_all('td')\n",
    "            if len(columns) > 6:\n",
    "                match_number = columns[0].text.strip()\n",
    "                date = columns[1].text.strip()\n",
    "                team1 = columns[2].text.strip()\n",
    "                team2 = columns[3].text.strip()\n",
    "                winner = columns[4].text.strip()\n",
    "                margin = columns[5].text.strip()\n",
    "                ground = columns[6].text.strip()\n",
    "\n",
    "                matches.append({\n",
    "                    'Scorecard': match_number,\n",
    "                    'Date': date,\n",
    "                    'Team1': team1,\n",
    "                    'Team2': team2,\n",
    "                    'Winner': winner,\n",
    "                    'Margin': margin,\n",
    "                    'Venue': ground\n",
    "                })\n",
    "            \n",
    "    \n",
    "    return matches\n",
    "\n",
    "# List of URLs to scrape\n",
    "urls = [\n",
    "    \"https://www.espncricinfo.com/records/year/team-match-results/2005-2005/twenty20-internationals-3\",\n",
    "    \"https://www.espncricinfo.com/records/year/team-match-results/2006-2006/twenty20-internationals-3\",\n",
    "    \"https://www.espncricinfo.com/records/year/team-match-results/2007-2007/twenty20-internationals-3\",\n",
    "    \"https://www.espncricinfo.com/records/year/team-match-results/2008-2008/twenty20-internationals-3\",\n",
    "    \"https://www.espncricinfo.com/records/year/team-match-results/2009-2009/twenty20-internationals-3\",\n",
    "    \"https://www.espncricinfo.com/records/year/team-match-results/2010-2010/twenty20-internationals-3\",\n",
    "    \"https://www.espncricinfo.com/records/year/team-match-results/2011-2011/twenty20-internationals-3\",\n",
    "    \"https://www.espncricinfo.com/records/year/team-match-results/2012-2012/twenty20-internationals-3\",\n",
    "    \"https://www.espncricinfo.com/records/year/team-match-results/2013-2013/twenty20-internationals-3\",\n",
    "    \"https://www.espncricinfo.com/records/year/team-match-results/2014-2014/twenty20-internationals-3\",\n",
    "    \"https://www.espncricinfo.com/records/year/team-match-results/2015-2015/twenty20-internationals-3\",\n",
    "    \"https://www.espncricinfo.com/records/year/team-match-results/2016-2016/twenty20-internationals-3\",\n",
    "    \"https://www.espncricinfo.com/records/year/team-match-results/2017-2017/twenty20-internationals-3\",\n",
    "    \"https://www.espncricinfo.com/records/year/team-match-results/2018-2018/twenty20-internationals-3\",\n",
    "    \"https://www.espncricinfo.com/records/year/team-match-results/2019-2019/twenty20-internationals-3\",\n",
    "    \"https://www.espncricinfo.com/records/year/team-match-results/2020-2020/twenty20-internationals-3\",\n",
    "    \"https://www.espncricinfo.com/records/year/team-match-results/2021-2021/twenty20-internationals-3\",\n",
    "    \"https://www.espncricinfo.com/records/year/team-match-results/2022-2022/twenty20-internationals-3\",\n",
    "    \"https://www.espncricinfo.com/records/year/team-match-results/2023-2023/twenty20-internationals-3\",\n",
    "    \"https://www.espncricinfo.com/records/year/team-match-results/2024-2024/twenty20-internationals-3\"\n",
    "]\n",
    "\n",
    "all_matches = []\n",
    "\n",
    "# Loop through each URL and extract data\n",
    "for url in urls:\n",
    "    matches = extract_data(url)\n",
    "    all_matches.extend(matches)\n",
    "\n",
    "# Create a DataFrame and save it to CSV\n",
    "df = pd.DataFrame(all_matches)\n",
    "df.to_csv('Combined_T20_Matches_2022.csv', index=False)\n",
    "\n",
    "print(\"CSV file has been created.\")\n"
   ]
  },
  {
   "cell_type": "code",
   "execution_count": null,
   "id": "c0cb9a4b-a40e-4a72-aa35-2ab5f633f575",
   "metadata": {},
   "outputs": [],
   "source": []
  }
 ],
 "metadata": {
  "kernelspec": {
   "display_name": "Python 3 (ipykernel)",
   "language": "python",
   "name": "python3"
  },
  "language_info": {
   "codemirror_mode": {
    "name": "ipython",
    "version": 3
   },
   "file_extension": ".py",
   "mimetype": "text/x-python",
   "name": "python",
   "nbconvert_exporter": "python",
   "pygments_lexer": "ipython3",
   "version": "3.11.7"
  }
 },
 "nbformat": 4,
 "nbformat_minor": 5
}
